{
 "cells": [
  {
   "cell_type": "markdown",
   "metadata": {},
   "source": [
    "### The OpenMDAO way\n",
    "---\n",
    "#### Create a `Component` to represent the Rosenbrock function"
   ]
  },
  {
   "cell_type": "code",
   "execution_count": 1,
   "metadata": {},
   "outputs": [],
   "source": [
    "import numpy as np\n",
    "import openmdao.api as om\n",
    "    \n",
    "import time\n",
    "    \n",
    "ORDER = 6  # dimension of problem\n",
    "span = 2   # upper and lower limits\n",
    "\n",
    "class RosenbrockComp(om.ExplicitComponent):\n",
    "    def setup(self):\n",
    "        self.add_input('x', np.zeros(ORDER))\n",
    "        self.add_output('y', 0.0)\n",
    "\n",
    "    def compute(self, inputs, outputs):\n",
    "        x = inputs['x']\n",
    "\n",
    "        n = len(x)\n",
    "        s = 0\n",
    "        for i in range(n - 1):\n",
    "            s += 100 * (x[i + 1] - x[i] * x[i]) ** 2 + (1 - x[i]) ** 2\n",
    "\n",
    "        outputs['y'] = s"
   ]
  },
  {
   "cell_type": "markdown",
   "metadata": {},
   "source": [
    "#### Create a model by putting the `Component` in a `Group` and specifying the design variables and objective"
   ]
  },
  {
   "cell_type": "code",
   "execution_count": 2,
   "metadata": {},
   "outputs": [],
   "source": [
    "my_model = om.Group()\n",
    "my_model.add_subsystem('rosenbrock', RosenbrockComp())\n",
    "my_model.add_design_var('rosenbrock.x', lower=-span * np.ones(ORDER), upper=span * np.ones(ORDER))\n",
    "my_model.add_objective('rosenbrock.y')"
   ]
  },
  {
   "cell_type": "markdown",
   "metadata": {},
   "source": [
    "#### Create a `Problem` to optimize the model using your choice of optimizers as the `Driver`"
   ]
  },
  {
   "cell_type": "code",
   "execution_count": 3,
   "metadata": {},
   "outputs": [],
   "source": [
    "p = om.Problem(model=my_model, driver=om.DifferentialEvolutionDriver(max_gen=800))\n",
    "p.setup()\n",
    "\n",
    "start = time.time()\n",
    "fail = p.run_driver()\n",
    "elapsed = time.time() - start\n",
    "\n",
    "assert fail is False"
   ]
  },
  {
   "cell_type": "markdown",
   "metadata": {},
   "source": [
    "#### The global minimum is found at [1, 1, 1, ...]"
   ]
  },
  {
   "cell_type": "code",
   "execution_count": 4,
   "metadata": {},
   "outputs": [
    {
     "name": "stdout",
     "output_type": "stream",
     "text": [
      "xopt: [1.00000036 1.00000038 1.00000064 1.00000073 1.00000215 1.00000444]\n",
      "fopt: [9.95555983e-11]\n",
      "iterations: 96121\n",
      "elapsed time: 79.99333810806274\n"
     ]
    }
   ],
   "source": [
    "print('xopt:', p['rosenbrock.x'])\n",
    "print('fopt:', p['rosenbrock.y'])\n",
    "print('iterations:', p.driver.iter_count)\n",
    "print('elapsed time:', elapsed)"
   ]
  },
  {
   "cell_type": "markdown",
   "metadata": {},
   "source": [
    "\n",
    "\n",
    "\n",
    "### The `pycma` way\n",
    "---\n",
    "#### Using the functional interface"
   ]
  },
  {
   "cell_type": "code",
   "execution_count": 5,
   "metadata": {},
   "outputs": [
    {
     "name": "stdout",
     "output_type": "stream",
     "text": [
      "(4_w,9)-aCMA-ES (mu_w=2.8,w_1=49%) in dimension 6 (seed=3, Sun Oct 18 23:09:46 2020)\n",
      "Iterat #Fevals   function value  axis ratio  sigma  min&max std  t[m:s]\n",
      "    1      9 2.001843015092397e+03 1.0e+00 8.78e-03  8e-03  9e-03 \n",
      "    2     18 1.986125694620930e+03 1.4e+00 8.48e-03  8e-03  9e-03 \n",
      "    3     27 1.988866857733969e+03 1.5e+00 7.68e-03  7e-03  8e-03 \n",
      "  100    900 2.372114162584607e+00 8.1e+00 8.61e-02  1e-02  5e-02 \n",
      "  200   1800 1.088872415974996e-01 2.6e+01 1.29e-01  6e-03  4e-02 \n",
      "  266   2394 6.637172252308916e-07 5.3e+01 4.33e-03  5e-05  9e-04 \n",
      "termination on ftarget=1e-06 (Sun Oct 18 23:09:48 2020)\n",
      "final/bestever f-value = 6.720343e-07 6.637172e-07\n",
      "incumbent solution: [0.999982151058333, 0.9999866455805502, 0.9999825497485988, 0.9999100175543002, 0.9998658254305461, 0.9997588042973703]\n",
      "std deviation: [5.3875484003553336e-05, 7.218132721595697e-05, 0.00011048916508625072, 0.0002242804956513507, 0.0004619327772433858, 0.0009076162191461554]\n"
     ]
    }
   ],
   "source": [
    "import cma\n",
    "\n",
    "# the Rosenbrock function is available in the \"fitness functions\" library\n",
    "rosenbrock = cma.ff.rosen\n",
    "\n",
    "# find global minimum via the fmin function\n",
    "start = time.time()\n",
    "res = cma.fmin(rosenbrock, ORDER * [-1], 0.01,\n",
    "               options={'ftarget':1e-6, 'verb_time':0, 'verb_disp':100, 'seed':3},\n",
    "               restarts=3)\n",
    "elapsed = time.time() - start"
   ]
  },
  {
   "cell_type": "markdown",
   "metadata": {},
   "source": [
    "#### The global minimum is found at [1, 1, 1, ...]"
   ]
  },
  {
   "cell_type": "code",
   "execution_count": 6,
   "metadata": {},
   "outputs": [
    {
     "name": "stdout",
     "output_type": "stream",
     "text": [
      "xopt: [0.99997403 0.99994719 0.9999355  0.9998314  0.99970865 0.99942561]\n",
      "fopt: 6.637172252308916e-07\n",
      "evalsopt: 2390\n",
      "evals: 2395\n",
      "iterations: 266\n",
      "elapsed time: 1.526317834854126\n"
     ]
    }
   ],
   "source": [
    "xopt = res[0]\n",
    "fopt = res[1]\n",
    "evalsopt = res[2]\n",
    "evals = res[3]\n",
    "iterations = res[4]\n",
    "print('xopt:', res[0])\n",
    "print('fopt:', res[1])\n",
    "print('evalsopt:', res[2])\n",
    "print('evals:', res[3])\n",
    "print('iterations:', res[4])\n",
    "print('elapsed time:', elapsed)"
   ]
  },
  {
   "cell_type": "markdown",
   "metadata": {},
   "source": [
    "### Use `pycma` as top level interface over OpenMDAO\n",
    "---\n",
    "#### Wrap an OpenMDAO `Component` for use with the `pycma` functional interface"
   ]
  },
  {
   "cell_type": "code",
   "execution_count": 7,
   "metadata": {},
   "outputs": [
    {
     "name": "stdout",
     "output_type": "stream",
     "text": [
      "(4_w,9)-aCMA-ES (mu_w=2.8,w_1=49%) in dimension 6 (seed=3, Sun Oct 18 23:09:48 2020)\n",
      "Iterat #Fevals   function value  axis ratio  sigma  min&max std  t[m:s]\n",
      "    1      9 2.001843015092397e+03 1.0e+00 8.78e-03  8e-03  9e-03 \n",
      "    2     18 1.986125694620930e+03 1.4e+00 8.48e-03  8e-03  9e-03 \n",
      "    3     27 1.988866857733969e+03 1.5e+00 7.68e-03  7e-03  8e-03 \n",
      "  100    900 2.372114162584607e+00 8.1e+00 8.61e-02  1e-02  5e-02 \n",
      "  200   1800 1.088872415974996e-01 2.6e+01 1.29e-01  6e-03  4e-02 \n",
      "  266   2394 6.637172252308916e-07 5.3e+01 4.33e-03  5e-05  9e-04 \n",
      "termination on ftarget=1e-06 (Sun Oct 18 23:09:49 2020)\n",
      "final/bestever f-value = 6.720343e-07 6.637172e-07\n",
      "incumbent solution: [0.999982151058333, 0.9999866455805502, 0.9999825497485988, 0.9999100175543002, 0.9998658254305461, 0.9997588042973703]\n",
      "std deviation: [5.3875484003553336e-05, 7.218132721595697e-05, 0.00011048916508625072, 0.0002242804956513507, 0.0004619327772433858, 0.0009076162191461554]\n"
     ]
    }
   ],
   "source": [
    "comp = RosenbrockComp()\n",
    "\n",
    "def rosenbrock(x):\n",
    "    inputs = {'x': x}\n",
    "    outputs = {}\n",
    "    comp.compute(inputs, outputs)\n",
    "    return outputs['y']\n",
    "    \n",
    "start = time.time()\n",
    "res = cma.fmin(rosenbrock, ORDER * [-1], 0.01,\n",
    "               options={'ftarget':1e-6, 'verb_time':0, 'verb_disp':100, 'seed':3},\n",
    "               restarts=3)\n",
    "elapsed = time.time() - start"
   ]
  },
  {
   "cell_type": "code",
   "execution_count": 8,
   "metadata": {},
   "outputs": [
    {
     "name": "stdout",
     "output_type": "stream",
     "text": [
      "xopt: [0.99997403 0.99994719 0.9999355  0.9998314  0.99970865 0.99942561]\n",
      "fopt: 6.637172252308916e-07\n",
      "evalsopt: 2390\n",
      "evals: 2395\n",
      "iterations: 266\n",
      "elapsed time: 1.3665874004364014\n"
     ]
    }
   ],
   "source": [
    "xopt = res[0]\n",
    "fopt = res[1]\n",
    "evalsopt = res[2]\n",
    "evals = res[3]\n",
    "iterations = res[4]\n",
    "print('xopt:', res[0])\n",
    "print('fopt:', res[1])\n",
    "print('evalsopt:', res[2])\n",
    "print('evals:', res[3])\n",
    "print('iterations:', res[4])\n",
    "print('elapsed time:', elapsed)"
   ]
  },
  {
   "cell_type": "markdown",
   "metadata": {},
   "source": [
    "### Use `pycma` as top level interface over OpenMDAO\n",
    "---\n",
    "#### Wrap an OpenMDAO `Problem` for use with the `pycma` functional interface"
   ]
  },
  {
   "cell_type": "code",
   "execution_count": 11,
   "metadata": {},
   "outputs": [
    {
     "name": "stdout",
     "output_type": "stream",
     "text": [
      "(4_w,9)-aCMA-ES (mu_w=2.8,w_1=49%) in dimension 6 (seed=3, Sun Oct 18 23:11:25 2020)\n",
      "Iterat #Fevals   function value  axis ratio  sigma  min&max std  t[m:s]\n",
      "    1      9 2.001843015092397e+03 1.0e+00 9.87e-03  9e-03  1e-02 \n",
      "termination on tolfun=1e-11 (Sun Oct 18 23:11:25 2020)\n",
      "final/bestever f-value = 2.029508e+03 2.001843e+03\n",
      "incumbent solution: [-0.9893478469085577, -0.9976819186390338, -1.0003795523127295, -1.0113174525315063, -1.0049002512864622, -1.0015264314443975]\n",
      "std deviation: [0.010049127438745819, 0.009410691177377204, 0.009610223792995162, 0.010524533675087874, 0.00965023559197976, 0.009749170101372575]\n",
      "(9_w,18)-aCMA-ES (mu_w=5.4,w_1=30%) in dimension 6 (seed=4, Sun Oct 18 23:11:25 2020)\n",
      "Iterat #Fevals   function value  axis ratio  sigma  min&max std  t[m:s]\n",
      "    1     28 2.001283718740498e+03 1.0e+00 9.00e-03  8e-03  9e-03 \n",
      "termination on tolfun=1e-11 after 1 restart (Sun Oct 18 23:11:26 2020)\n",
      "final/bestever f-value = 2.021054e+03 2.001284e+03\n",
      "incumbent solution: [-0.9975327044659268, -0.9955731553231479, -1.0041822508997993, -1.0007482263838958, -1.0005022532368317, -1.0044669419303145]\n",
      "std deviation: [0.008793052215914188, 0.009332694359264426, 0.008060266060331394, 0.008834171240925967, 0.009137274036800163, 0.008801660929917033]\n",
      "(18_w,36)-aCMA-ES (mu_w=10.2,w_1=18%) in dimension 6 (seed=5, Sun Oct 18 23:11:26 2020)\n",
      "Iterat #Fevals   function value  axis ratio  sigma  min&max std  t[m:s]\n",
      "    1     65 2.051762182715051e+03 1.0e+00 8.74e-03  9e-03  1e-02 \n",
      "termination on tolfun=1e-11 after 2 restarts (Sun Oct 18 23:11:26 2020)\n",
      "final/bestever f-value = 2.016246e+03 2.001284e+03\n",
      "incumbent solution: [-0.9973005654157102, -1.0020591014590319, -0.9970714742031335, -0.9991410823103961, -1.000635175581174, -0.9992952417373601]\n",
      "std deviation: [0.008850015716619456, 0.008729670089863533, 0.009566966221489162, 0.00885948458173435, 0.009079988960075619, 0.008589752344281838]\n",
      "(36_w,72)-aCMA-ES (mu_w=19.7,w_1=10%) in dimension 6 (seed=6, Sun Oct 18 23:11:26 2020)\n",
      "Iterat #Fevals   function value  axis ratio  sigma  min&max std  t[m:s]\n",
      "    1    138 2.033747973112846e+03 1.0e+00 1.05e-02  9e-03  1e-02 \n",
      "termination on tolfun=1e-11 after 3 restarts (Sun Oct 18 23:11:26 2020)\n",
      "final/bestever f-value = 2.018454e+03 2.001284e+03\n",
      "incumbent solution: [-0.9990689922125335, -0.997165959025902, -0.9975572870933203, -1.0011106794138371, -1.0043954423948027, -0.9972360835254418]\n",
      "std deviation: [0.009467155671328923, 0.01001160547145686, 0.010398070764915765, 0.009602539439277207, 0.011583921572727264, 0.010663668235297925]\n"
     ]
    }
   ],
   "source": [
    "def rosenbrock(x):\n",
    "    p['rosenbrock.x'] = x\n",
    "    p.run_model()\n",
    "    return p['rosenbrock.y']\n",
    "    \n",
    "start = time.time()\n",
    "res = cma.fmin(rosenbrock, ORDER * [-1], 0.01,\n",
    "               options={'ftarget':1e-6, 'verb_time':0, 'verb_disp':100, 'seed':3},\n",
    "               restarts=3)\n",
    "elapsed = time.time() - start"
   ]
  },
  {
   "cell_type": "code",
   "execution_count": 10,
   "metadata": {},
   "outputs": [
    {
     "name": "stdout",
     "output_type": "stream",
     "text": [
      "xopt: [-0.99949438 -0.99500045 -1.00995926 -0.99306384 -1.00418315 -1.01584643]\n",
      "fopt: 2001.2837187404984\n",
      "evalsopt: 11\n",
      "evals: 139\n",
      "iterations: 1\n",
      "elapsed time: 0.3718082904815674\n"
     ]
    }
   ],
   "source": [
    "xopt = res[0]\n",
    "fopt = res[1]\n",
    "evalsopt = res[2]\n",
    "evals = res[3]\n",
    "iterations = res[4]\n",
    "print('xopt:', res[0])\n",
    "print('fopt:', res[1])\n",
    "print('evalsopt:', res[2])\n",
    "print('evals:', res[3])\n",
    "print('iterations:', res[4])\n",
    "print('elapsed time:', elapsed)"
   ]
  }
 ],
 "metadata": {
  "kernelspec": {
   "display_name": "Python 3",
   "language": "python",
   "name": "python3"
  },
  "language_info": {
   "codemirror_mode": {
    "name": "ipython",
    "version": 3
   },
   "file_extension": ".py",
   "mimetype": "text/x-python",
   "name": "python",
   "nbconvert_exporter": "python",
   "pygments_lexer": "ipython3",
   "version": "3.8.5"
  }
 },
 "nbformat": 4,
 "nbformat_minor": 4
}
