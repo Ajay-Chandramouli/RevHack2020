{
 "cells": [
  {
   "cell_type": "markdown",
   "metadata": {},
   "source": [
    "## Finding the global minimum of the Rosenbrock function\n",
    "---\n",
    "\n",
    "> In mathematical optimization, the Rosenbrock function is a non-convex function, introduced by Howard H. Rosenbrock in 1960, which is used as a performance test problem for optimization algorithms. It is also known as Rosenbrock's valley or Rosenbrock's banana function.\n",
    ">\n",
    "> The global minimum is inside a long, narrow, parabolic shaped flat valley. To find the valley is trivial. To converge to the global minimum, however, is difficult.\n",
    "\n",
    "<p style='text-align: right;'> -- <a href=https://en.wikipedia.org/wiki/Rosenbrock_function>Wikipedia</a> </p>"
   ]
  },
  {
   "cell_type": "markdown",
   "metadata": {},
   "source": [
    "### The OpenMDAO way\n",
    "---\n",
    "#### Create a `Component` to represent the Rosenbrock function"
   ]
  },
  {
   "cell_type": "code",
   "execution_count": 1,
   "metadata": {},
   "outputs": [],
   "source": [
    "import numpy as np\n",
    "import openmdao.api as om\n",
    "\n",
    "class RosenbrockComp(om.ExplicitComponent):\n",
    "    \"\"\"\n",
    "    nth dimensional Rosenbrock function, array input and scalar output\n",
    "    global minimum at f(1,1,1...) = 0\n",
    "    \"\"\"\n",
    "    def initialize(self):\n",
    "        self.options.declare('order', types=int, default=2, desc='dimension of input.')\n",
    "\n",
    "    def setup(self):\n",
    "        n = self.options['order']\n",
    "        \n",
    "        self.add_input('x', np.zeros(n))\n",
    "        self.add_output('y', 0.0)\n",
    "\n",
    "    def compute(self, inputs, outputs):\n",
    "        x = inputs['x']\n",
    "        \n",
    "        n = len(x)\n",
    "        s = 0\n",
    "        for i in range(n - 1):\n",
    "            s += 100 * (x[i + 1] - x[i] * x[i]) ** 2 + (1 - x[i]) ** 2\n",
    "        \n",
    "        outputs['y'] = s"
   ]
  },
  {
   "cell_type": "markdown",
   "metadata": {},
   "source": [
    "#### Create a model by putting the `Component` in a `Group` and specifying the design variables and objective"
   ]
  },
  {
   "cell_type": "code",
   "execution_count": 2,
   "metadata": {},
   "outputs": [],
   "source": [
    "ORDER = 6  # dimension of problem\n",
    "\n",
    "span = 2   # upper and lower limits\n",
    "lower_bound = -span*np.ones(ORDER)\n",
    "upper_bound = span*np.ones(ORDER)\n",
    "\n",
    "my_model = om.Group()\n",
    "my_model.add_subsystem('rosenbrock', RosenbrockComp(order=ORDER))\n",
    "my_model.add_design_var('rosenbrock.x', lower=lower_bound, upper=upper_bound)\n",
    "my_model.add_objective('rosenbrock.y')"
   ]
  },
  {
   "cell_type": "markdown",
   "metadata": {},
   "source": [
    "#### Create a `Problem` to run the model using your choice of optimizers as the `Driver`"
   ]
  },
  {
   "cell_type": "code",
   "execution_count": 3,
   "metadata": {},
   "outputs": [],
   "source": [
    "p = om.Problem(model=my_model, driver=om.DifferentialEvolutionDriver(max_gen=500))\n",
    "p.setup()\n",
    "\n",
    "fail = p.run_driver()\n",
    "assert fail is False"
   ]
  },
  {
   "cell_type": "markdown",
   "metadata": {},
   "source": [
    "#### The global minimum is found at [1, 1, 1, ...]"
   ]
  },
  {
   "cell_type": "code",
   "execution_count": 4,
   "metadata": {},
   "outputs": [
    {
     "name": "stdout",
     "output_type": "stream",
     "text": [
      "xopt: [0.99991615 0.99997196 0.99986423 0.99989539 0.99995877 0.99983555]\n",
      "fopt: [8.90398716e-06]\n",
      "model execution count: 60121\n"
     ]
    }
   ],
   "source": [
    "print('xopt:', p['rosenbrock.x'])\n",
    "print('fopt:', p['rosenbrock.y'])\n",
    "print('model execution count:', p.driver.iter_count)"
   ]
  },
  {
   "cell_type": "markdown",
   "metadata": {},
   "source": [
    "\n",
    "\n",
    "\n",
    "### The `pycma` way\n",
    "---\n",
    "#### Using the functional interface"
   ]
  },
  {
   "cell_type": "code",
   "execution_count": 5,
   "metadata": {},
   "outputs": [
    {
     "name": "stdout",
     "output_type": "stream",
     "text": [
      "(4_w,9)-aCMA-ES (mu_w=2.8,w_1=49%) in dimension 6 (seed=3, Tue Oct 27 21:24:32 2020)\n",
      "Iterat #Fevals   function value  axis ratio  sigma  min&max std  t[m:s]\n",
      "    1      9 2.001843015092397e+03 1.0e+00 8.78e-03  8e-03  9e-03 0:00.0\n",
      "    2     18 1.986125694620930e+03 1.4e+00 8.48e-03  8e-03  9e-03 0:00.0\n",
      "    3     27 1.988866857733969e+03 1.5e+00 7.68e-03  7e-03  8e-03 0:00.0\n",
      "  100    900 2.372114162584607e+00 8.1e+00 8.61e-02  1e-02  5e-02 0:00.6\n",
      "  200   1800 1.088872415974996e-01 2.6e+01 1.29e-01  6e-03  4e-02 0:01.5\n",
      "  266   2394 6.637172252308916e-07 5.3e+01 4.33e-03  5e-05  9e-04 0:01.7\n",
      "termination on ftarget=1e-06 (Tue Oct 27 21:24:35 2020)\n",
      "final/bestever f-value = 6.720343e-07 6.637172e-07\n",
      "incumbent solution: [0.999982151058333, 0.9999866455805502, 0.9999825497485988, 0.9999100175543002, 0.9998658254305461, 0.9997588042973703]\n",
      "std deviation: [5.3875484003553336e-05, 7.218132721595697e-05, 0.00011048916508625072, 0.0002242804956513507, 0.0004619327772433858, 0.0009076162191461554]\n"
     ]
    }
   ],
   "source": [
    "import cma\n",
    "\n",
    "def rosenbrock(x):\n",
    "    n = len(x)\n",
    "    s = 0\n",
    "    for i in range(n - 1):\n",
    "        s += 100 * (x[i + 1] - x[i] * x[i]) ** 2 + (1 - x[i]) ** 2\n",
    "    return s\n",
    "\n",
    "# NOTE: the Rosenbrock function is also available in the \"fitness functions\" library\n",
    "# rosenbrock = cma.ff.rosen\n",
    "\n",
    "# find global minimum via the fmin function\n",
    "res = cma.fmin(rosenbrock, [-1]*ORDER, 0.01,\n",
    "               options={'ftarget':1e-6, 'bounds':[lower_bound, upper_bound], 'seed': 3})"
   ]
  },
  {
   "cell_type": "markdown",
   "metadata": {},
   "source": [
    "#### The global minimum is found at [1, 1, 1, ...]"
   ]
  },
  {
   "cell_type": "code",
   "execution_count": 6,
   "metadata": {},
   "outputs": [
    {
     "name": "stdout",
     "output_type": "stream",
     "text": [
      "xopt: [0.99997403 0.99994719 0.9999355  0.9998314  0.99970865 0.99942561]\n",
      "fopt: 6.637172252308916e-07\n",
      "function execution count: 2390\n"
     ]
    }
   ],
   "source": [
    "print('xopt:', res[0])\n",
    "print('fopt:', res[1])\n",
    "print('function execution count:', res[2])"
   ]
  },
  {
   "cell_type": "markdown",
   "metadata": {},
   "source": [
    "### Use `pycma` as top level interface over OpenMDAO\n",
    "---\n",
    "#### Wrap an OpenMDAO `Component` for use with the `pycma` functional interface"
   ]
  },
  {
   "cell_type": "code",
   "execution_count": 7,
   "metadata": {},
   "outputs": [
    {
     "name": "stdout",
     "output_type": "stream",
     "text": [
      "(4_w,9)-aCMA-ES (mu_w=2.8,w_1=49%) in dimension 6 (seed=3, Tue Oct 27 21:24:35 2020)\n",
      "Iterat #Fevals   function value  axis ratio  sigma  min&max std  t[m:s]\n",
      "    1      9 2.001843015092397e+03 1.0e+00 8.78e-03  8e-03  9e-03 0:00.0\n",
      "    2     18 1.986125694620930e+03 1.4e+00 8.48e-03  8e-03  9e-03 0:00.0\n",
      "    3     27 1.988866857733969e+03 1.5e+00 7.68e-03  7e-03  8e-03 0:00.0\n",
      "  100    900 2.372114162584607e+00 8.1e+00 8.61e-02  1e-02  5e-02 0:00.4\n",
      "  200   1800 1.088872415974996e-01 2.6e+01 1.29e-01  6e-03  4e-02 0:00.9\n",
      "  266   2394 6.637172252308916e-07 5.3e+01 4.33e-03  5e-05  9e-04 0:01.2\n",
      "termination on ftarget=1e-06 (Tue Oct 27 21:24:37 2020)\n",
      "final/bestever f-value = 6.720343e-07 6.637172e-07\n",
      "incumbent solution: [0.999982151058333, 0.9999866455805502, 0.9999825497485988, 0.9999100175543002, 0.9998658254305461, 0.9997588042973703]\n",
      "std deviation: [5.3875484003553336e-05, 7.218132721595697e-05, 0.00011048916508625072, 0.0002242804956513507, 0.0004619327772433858, 0.0009076162191461554]\n"
     ]
    }
   ],
   "source": [
    "comp = RosenbrockComp(order=ORDER)\n",
    "\n",
    "def rosenbrock(x):\n",
    "    inputs = {'x': x}\n",
    "    outputs = {}\n",
    "    comp.compute(inputs, outputs)\n",
    "    return outputs['y']\n",
    "    \n",
    "# find global minimum via the fmin function\n",
    "res = cma.fmin(rosenbrock, [-1]*ORDER, 0.01,\n",
    "               options={'ftarget':1e-6, 'bounds':[lower_bound, upper_bound], 'seed': 3})"
   ]
  },
  {
   "cell_type": "markdown",
   "metadata": {},
   "source": [
    "#### The global minimum is found at [1, 1, 1, ...]"
   ]
  },
  {
   "cell_type": "code",
   "execution_count": 8,
   "metadata": {},
   "outputs": [
    {
     "name": "stdout",
     "output_type": "stream",
     "text": [
      "xopt: [0.99997403 0.99994719 0.9999355  0.9998314  0.99970865 0.99942561]\n",
      "fopt: 6.637172252308916e-07\n",
      "component execution count: 2390\n"
     ]
    }
   ],
   "source": [
    "print('xopt:', res[0])\n",
    "print('fopt:', res[1])\n",
    "print('component execution count:',res[2])"
   ]
  },
  {
   "cell_type": "markdown",
   "metadata": {},
   "source": [
    "#### Wrap an OpenMDAO `Problem` for use with the `pycma` functional interface"
   ]
  },
  {
   "cell_type": "code",
   "execution_count": 9,
   "metadata": {},
   "outputs": [
    {
     "name": "stdout",
     "output_type": "stream",
     "text": [
      "(4_w,9)-aCMA-ES (mu_w=2.8,w_1=49%) in dimension 6 (seed=3, Tue Oct 27 21:24:37 2020)\n",
      "Iterat #Fevals   function value  axis ratio  sigma  min&max std  t[m:s]\n",
      "    1      9 2.001843015092397e+03 1.0e+00 8.78e-03  8e-03  9e-03 0:00.0\n",
      "    2     18 1.986125694620930e+03 1.4e+00 8.48e-03  8e-03  9e-03 0:00.0\n",
      "    3     27 1.988866857733969e+03 1.5e+00 7.68e-03  7e-03  8e-03 0:00.0\n",
      "  100    900 2.372114162584607e+00 8.1e+00 8.61e-02  1e-02  5e-02 0:00.9\n",
      "  200   1800 1.088872415974996e-01 2.6e+01 1.29e-01  6e-03  4e-02 0:01.8\n",
      "  266   2394 6.637172252308916e-07 5.3e+01 4.33e-03  5e-05  9e-04 0:03.0\n",
      "termination on ftarget=1e-06 (Tue Oct 27 21:24:41 2020)\n",
      "final/bestever f-value = 6.720343e-07 6.637172e-07\n",
      "incumbent solution: [0.999982151058333, 0.9999866455805502, 0.9999825497485988, 0.9999100175543002, 0.9998658254305461, 0.9997588042973703]\n",
      "std deviation: [5.3875484003553336e-05, 7.218132721595697e-05, 0.00011048916508625072, 0.0002242804956513507, 0.0004619327772433858, 0.0009076162191461554]\n"
     ]
    }
   ],
   "source": [
    "def rosenbrock(x):\n",
    "    p['rosenbrock.x'] = x\n",
    "    p.run_model()\n",
    "    return p['rosenbrock.y'][0]\n",
    "    \n",
    "# find global minimum via the fmin function\n",
    "res = cma.fmin(rosenbrock, [-1]*ORDER, 0.01,\n",
    "               options={'ftarget':1e-6, 'bounds':[lower_bound, upper_bound], 'seed': 3})"
   ]
  },
  {
   "cell_type": "markdown",
   "metadata": {},
   "source": [
    "#### The global minimum is found at [1, 1, 1, ...]"
   ]
  },
  {
   "cell_type": "code",
   "execution_count": 10,
   "metadata": {},
   "outputs": [
    {
     "name": "stdout",
     "output_type": "stream",
     "text": [
      "xopt: [0.99997403 0.99994719 0.9999355  0.9998314  0.99970865 0.99942561]\n",
      "fopt: 6.637172252308916e-07\n",
      "model execution count: 2390\n"
     ]
    }
   ],
   "source": [
    "print('xopt:', res[0])\n",
    "print('fopt:', res[1])\n",
    "print('model execution count:', res[2])"
   ]
  }
 ],
 "metadata": {
  "kernelspec": {
   "display_name": "Python 3",
   "language": "python",
   "name": "python3"
  },
  "language_info": {
   "codemirror_mode": {
    "name": "ipython",
    "version": 3
   },
   "file_extension": ".py",
   "mimetype": "text/x-python",
   "name": "python",
   "nbconvert_exporter": "python",
   "pygments_lexer": "ipython3",
   "version": "3.8.5"
  }
 },
 "nbformat": 4,
 "nbformat_minor": 4
}
