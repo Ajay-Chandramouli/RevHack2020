{
  "nbformat": 4,
  "nbformat_minor": 0,
  "metadata": {
    "colab": {
      "name": "OpenVSPwithOpenMDAO.ipynb",
      "provenance": [],
      "collapsed_sections": []
    },
    "kernelspec": {
      "name": "python3",
      "display_name": "Python 3"
    }
  },
  "cells": [
    {
      "cell_type": "markdown",
      "metadata": {
        "id": "GbJ3h6cVTXhP"
      },
      "source": [
        "# **Creating an OpenMDAO Component Wrapper for a VSP Model**\n",
        "\n",
        "The OpenVSP installation here, specific to Colab, is adapted from the Ubuntu instructions provided on the [OpenVSP site](http://openvsp.org/wiki/doku.php?id=ubuntu_instructions).\n",
        "\n",
        "First, install required packages:"
      ]
    },
    {
      "cell_type": "code",
      "metadata": {
        "id": "teP1uXKprzrY"
      },
      "source": [
        "!apt-get update && \\\n",
        " apt-get install git cmake libxml2-dev libfltk1.3-dev g++ libcpptest-dev \\\n",
        "  libjpeg-dev libglm-dev libeigen3-dev libcminpack-dev libglew-dev swig \\\n",
        "  doxygen graphviz python3-venv"
      ],
      "execution_count": null,
      "outputs": []
    },
    {
      "cell_type": "markdown",
      "metadata": {
        "id": "EEyHlj6_UHtR"
      },
      "source": [
        "Next, set up the directory structure and clone the OpenVSP source:"
      ]
    },
    {
      "cell_type": "code",
      "metadata": {
        "id": "vZcAeJ-Sso1J"
      },
      "source": [
        "!mkdir -p repo build buildlibs && \\\n",
        " git clone --depth=1 https://github.com/OpenVSP/OpenVSP.git repo"
      ],
      "execution_count": null,
      "outputs": []
    },
    {
      "cell_type": "markdown",
      "metadata": {
        "id": "vqSE0WR5UQSr"
      },
      "source": [
        "Prepare the build files for the libraries and build them:"
      ]
    },
    {
      "cell_type": "code",
      "metadata": {
        "id": "FgC8qyCWuG6M"
      },
      "source": [
        "!cd buildlibs && \\\n",
        " cmake \\\n",
        "  -DVSP_USE_SYSTEM_LIBXML2=true \\\n",
        "  -DVSP_USE_SYSTEM_FLTK=true \\\n",
        "  -DVSP_USE_SYSTEM_GLM=true \\\n",
        "  -DVSP_USE_SYSTEM_GLEW=true \\\n",
        "  -DVSP_USE_SYSTEM_CMINPACK=true \\\n",
        "  -DVSP_USE_SYSTEM_LIBIGES=false \\\n",
        "  -DVSP_USE_SYSTEM_EIGEN=false \\\n",
        "  -DVSP_USE_SYSTEM_CODEELI=false \\\n",
        "  -DVSP_USE_SYSTEM_CPPTEST=false \\\n",
        "  ../repo/Libraries -DCMAKE_BUILD_TYPE=Release && \\\n",
        " make -j 8"
      ],
      "execution_count": null,
      "outputs": []
    },
    {
      "cell_type": "markdown",
      "metadata": {
        "id": "N6rmUZWUUbkJ"
      },
      "source": [
        "Build OpenVSP, which may take 10-15 minutes on Colab. Generate a zip folder that we can use to install the Python packages from:"
      ]
    },
    {
      "cell_type": "code",
      "metadata": {
        "id": "tTRipWsbvjje"
      },
      "source": [
        "!cd build && \\\n",
        " cmake ../repo/src \\\n",
        "  -DVSP_LIBRARY_PATH=/content/buildlibs \\\n",
        "  -DCMAKE_BUILD_TYPE=Release && \\\n",
        " make -j 8 && \\\n",
        " make package"
      ],
      "execution_count": null,
      "outputs": []
    },
    {
      "cell_type": "markdown",
      "metadata": {
        "id": "y2KK3qNQVAf9"
      },
      "source": [
        "Build and install the OpenVSP Python packages. The current version of OpenVSP may have to be updated:"
      ]
    },
    {
      "cell_type": "code",
      "metadata": {
        "id": "AMFnQRqiQTPu"
      },
      "source": [
        "import os\n",
        "os.environ[\"VSP_VER\"] = \"3.21.2\"\n",
        "\n",
        "!cd /content/build/_CPack_Packages/Linux/ZIP/OpenVSP-${VSP_VER}-Linux/python && \\\n",
        "  pip install -r requirements.txt && \\\n",
        "  cd .. && \\\n",
        "  cp vspaero vspscript vspslicer /usr/local/bin"
      ],
      "execution_count": null,
      "outputs": []
    },
    {
      "cell_type": "markdown",
      "metadata": {
        "id": "yPu46iziVNKS"
      },
      "source": [
        "Run a simple test to be sure the packages are installed correctly:"
      ]
    },
    {
      "cell_type": "code",
      "metadata": {
        "id": "6MzmGKULVpKJ"
      },
      "source": [
        "import openvsp"
      ],
      "execution_count": null,
      "outputs": []
    },
    {
      "cell_type": "markdown",
      "metadata": {
        "id": "QvnaypEbaNRL"
      },
      "source": [
        "# **Incorporating OpenVSP into OpenMDAO**\n",
        "## Install OpenMDAO\n"
      ]
    },
    {
      "cell_type": "code",
      "metadata": {
        "id": "2X6YRf7IadeC"
      },
      "source": [
        "pip install openmdao jdc"
      ],
      "execution_count": null,
      "outputs": []
    },
    {
      "cell_type": "markdown",
      "metadata": {
        "id": "wVww0vWRaj5R"
      },
      "source": [
        "# Sample Code\n",
        "This is an OpenMDAO component wrapper for a VSP model of a modified CRM (eCRM-001) that is used to demonstrate the computation and use of stability derivatives in a design problem. This code is based on a sample provided during OpenMDAO RevHack 2020.\n",
        "\n",
        "First, obtain the CRM:"
      ]
    },
    {
      "cell_type": "code",
      "metadata": {
        "id": "HTUI6aPqfXxR"
      },
      "source": [
        "!wget -c https://raw.githubusercontent.com/OpenMDAO/RevHack2020/master/problems/oas_stability_derivs/eCRM-001.1_wing_tail.vsp3"
      ],
      "execution_count": null,
      "outputs": []
    },
    {
      "cell_type": "markdown",
      "metadata": {
        "id": "Qzy83AGJfcIa"
      },
      "source": [
        "Import required modules:"
      ]
    },
    {
      "cell_type": "code",
      "metadata": {
        "id": "2he3HxPTaq7Q",
        "outputId": "53c04d78-3346-4e86-e9ac-fb3852eb946f",
        "colab": {
          "base_uri": "https://localhost:8080/"
        }
      },
      "source": [
        "import pickle\n",
        "import itertools\n",
        "\n",
        "import numpy as np\n",
        "\n",
        "import openmdao.api as om\n",
        "\n",
        "import openvsp as vsp\n",
        "import degen_geom\n",
        "\n",
        "import jdc # To permit class definitions to be spread across multiple cells"
      ],
      "execution_count": null,
      "outputs": [
        {
          "output_type": "stream",
          "text": [
            "Unable to import mpi4py. Parallel processing unavailable.\n",
            "Unable to import petsc4py. Parallel processing unavailable.\n",
            "Unable to import petsc4py. Parallel processing unavailable.\n"
          ],
          "name": "stdout"
        }
      ]
    },
    {
      "cell_type": "markdown",
      "metadata": {
        "id": "l7_qT-_fawan"
      },
      "source": [
        "Create a new subclass based on OpenMDAO [ExplicitComponent](https://openmdao.org/twodocs/versions/latest/features/core_features/defining_components/explicitcomp.html). Set some [options](https://openmdao.org/twodocs/versions/latest/features/core_features/defining_components/options.html) with the names of the geometries in the VSP project that we want to work with. The reduced option is helpful for testing purposes."
      ]
    },
    {
      "cell_type": "code",
      "metadata": {
        "id": "EVE8KDNza0WF"
      },
      "source": [
        "class VSPeCRM(om.ExplicitComponent):\n",
        "\n",
        "    def initialize(self):\n",
        "        self.options.declare('horiz_tail_name', default='Tail',\n",
        "                             desc=\"Name of the horizontal tail in the vsp model.\")\n",
        "        self.options.declare('vert_tail_name', default='VerticalTail',\n",
        "                             desc=\"Name of the vertical tail in the vsp model.\")\n",
        "        self.options.declare('wing_name', default='Wing',\n",
        "                             desc=\"Name of the wing in the vsp model.\")\n",
        "        self.options.declare('reduced', default=False,\n",
        "                             desc=\"When True, output reduced meshes instead of full-size ones. \"\n",
        "                             \"Running with a smaller mesh is of value when debugging.\")"
      ],
      "execution_count": null,
      "outputs": []
    },
    {
      "cell_type": "markdown",
      "metadata": {
        "id": "kmkpOe--a6sv"
      },
      "source": [
        "Load the OpenVSP project from a VSP3 file and find the IDs of the relevant geometries.\n",
        "\n",
        "Set up inputs with initial values, and outputs with units and 3-dimensional shapes. The finite difference approximation method for partial derivatives is used."
      ]
    },
    {
      "cell_type": "code",
      "metadata": {
        "id": "M1I19X69a9aJ"
      },
      "source": [
        "    %%add_to VSPeCRM\n",
        "    def setup(self):\n",
        "        options = self.options\n",
        "        horiz_tail_name = options['horiz_tail_name']\n",
        "        vert_tail_name = options['vert_tail_name']\n",
        "        wing_name = options['wing_name']\n",
        "        reduced = options['reduced']\n",
        "\n",
        "        # Read the geometry.\n",
        "        vsp_file = 'eCRM-001.1_wing_tail.vsp3'\n",
        "        vsp.ReadVSPFile(vsp_file)\n",
        "\n",
        "        self.wing_id = vsp.FindGeomsWithName(wing_name)[0]\n",
        "        self.horiz_tail_id = vsp.FindGeomsWithName(horiz_tail_name)[0]\n",
        "        self.vert_tail_id = vsp.FindGeomsWithName(vert_tail_name)[0]\n",
        "\n",
        "        self.add_input('wing_cord', val=59.05128,)\n",
        "        self.add_input('vert_tail_area', val=2295.)\n",
        "        self.add_input('horiz_tail_area', val=6336.)\n",
        "\n",
        "        # Shapes are pre-determined.\n",
        "        if reduced:\n",
        "            self.add_output('wing_mesh', shape=(6, 9, 3), units='inch')\n",
        "            self.add_output('vert_tail_mesh', shape=(5, 5, 3), units='inch')\n",
        "            self.add_output('horiz_tail_mesh', shape=(5, 5, 3), units='inch')\n",
        "        else:\n",
        "            # Note: at present, OAS can't handle this size.\n",
        "            self.add_output('wing_mesh', shape=(23, 33, 3), units='inch')\n",
        "            self.add_output('vert_tail_mesh', shape=(33, 9, 3), units='inch')\n",
        "            self.add_output('horiz_tail_mesh', shape=(33, 9, 3), units='inch')\n",
        "\n",
        "        self.declare_partials(of='*', wrt='*', method='fd')"
      ],
      "execution_count": null,
      "outputs": []
    },
    {
      "cell_type": "markdown",
      "metadata": {
        "id": "2lnv4Wx9dMW5"
      },
      "source": [
        "Compute the OpenVSP meshes. Using the previously located geometries, set the values of the VSP parameters to the initial input values from `setup()`. Then, reset the OpenVSP model to a blank slate with `Update()`.\n",
        "\n",
        "Compute the degenerate geometry representation for the OpenVSP components, and obtain the measurements.\n",
        "\n",
        "The purpose of this RevHack exercise was to use [OpenAeroStruct](https://github.com/mdolab/OpenAeroStruct), so update the meshes to work with it."
      ]
    },
    {
      "cell_type": "code",
      "metadata": {
        "id": "7cAETBLkdaZJ"
      },
      "source": [
        "    %%add_to VSPeCRM\n",
        "    def compute(self, inputs, outputs, discrete_inputs=None, discrete_outputs=None):\n",
        "        # set values\n",
        "        vsp.SetParmVal(self.vert_tail_id, \"TotalArea\", \"WingGeom\", inputs['vert_tail_area'][0])\n",
        "        vsp.SetParmVal(self.horiz_tail_id, \"TotalArea\", \"WingGeom\", inputs['horiz_tail_area'][0])\n",
        "        vsp.SetParmVal(self.wing_id, \"TotalChord\", \"WingGeom\", inputs['wing_cord'][0])\n",
        "\n",
        "        vsp.Update()\n",
        "        vsp.Update()  # just in case..\n",
        "\n",
        "        # run degen geom to get measurements\n",
        "        dg:degen_geom.DegenGeomMgr = vsp.run_degen_geom(set_index=vsp.SET_ALL)\n",
        "        obj_dict = {p.name:p for p in dg.get_all_objs()}\n",
        "\n",
        "        # pull measurements out of degen_geom api\n",
        "        degen_obj: degen_geom.DegenGeom = obj_dict[self.options['wing_name']]\n",
        "        wing_cloud = self.vsp_to_point_cloud(degen_obj)\n",
        "\n",
        "        degen_obj: degen_geom.DegenGeom = obj_dict[self.options['horiz_tail_name']]\n",
        "        horiz_cloud = self.vsp_to_point_cloud(degen_obj)\n",
        "\n",
        "        degen_obj: degen_geom.DegenGeom = obj_dict[self.options['vert_tail_name']]\n",
        "        vert_cloud = self.vsp_to_point_cloud(degen_obj)\n",
        "\n",
        "        # VSP outputs wing outer mold lines at points along the span.\n",
        "        # Reshape to (chord, span, dimension)\n",
        "        wing_cloud = wing_cloud.reshape((45, 33, 3), order='F')\n",
        "        horiz_cloud = horiz_cloud.reshape((33, 9, 3), order='F')\n",
        "        vert_cloud = vert_cloud.reshape((33, 9, 3), order='F')\n",
        "\n",
        "        # Meshes have upper and lower surfaces, so we average the z (or y for vertical).\n",
        "        wing_pts = wing_cloud[:23, :, :]\n",
        "        wing_pts[1:-1, :, 2] = 0.5 * (wing_cloud[-2:-23:-1, :, 2] + wing_pts[1:-1, :, 2])\n",
        "        horiz_tail_pts = horiz_cloud[:17, :, :]\n",
        "        horiz_tail_pts[1:-1, :, 2] = 0.5 * (horiz_cloud[-2:-17:-1, :, 2] + horiz_tail_pts[1:-1, :, 2])\n",
        "        vert_tail_pts = vert_cloud[:17, :, :]\n",
        "        vert_tail_pts[1:-1, :, 1] = 0.5 * (vert_cloud[-2:-17:-1, :, 1] + vert_tail_pts[1:-1, :, 1])\n",
        "\n",
        "        # Reduce the mesh size for testing. (See John Jasa's recommendations in the docs.)\n",
        "        if self.options['reduced']:\n",
        "            wing_pts = wing_pts[:, ::4, :]\n",
        "            wing_pts = wing_pts[[0, 4, 8, 12, 16, 22], ...]\n",
        "            horiz_tail_pts = horiz_tail_pts[::4, ::2, :]\n",
        "            vert_tail_pts = vert_tail_pts[::4, ::2, :]\n",
        "\n",
        "        # Flip around so that FEM normals yield positive areas.\n",
        "        wing_pts = wing_pts[::-1, ::-1, :]\n",
        "        horiz_tail_pts = horiz_tail_pts[::-1, ::-1, :]\n",
        "        vert_tail_pts = vert_tail_pts[::-1, ::-1, :]\n",
        "\n",
        "        # outputs go here\n",
        "        outputs['wing_mesh'] = wing_pts\n",
        "        outputs['vert_tail_mesh'] = horiz_tail_pts\n",
        "        outputs['horiz_tail_mesh'] = vert_tail_pts"
      ],
      "execution_count": null,
      "outputs": []
    },
    {
      "cell_type": "markdown",
      "metadata": {
        "id": "X9vMld-2d4Ml"
      },
      "source": [
        "Convert an OpenVSP degenerate geometry to a [NumPy N-dimensional array](https://numpy.org/doc/stable/reference/generated/numpy.ndarray.html) of points using [itertools](https://docs.python.org/3/library/itertools.html)."
      ]
    },
    {
      "cell_type": "code",
      "metadata": {
        "id": "JQFVGoGqd69k"
      },
      "source": [
        "    %%add_to VSPeCRM\n",
        "    def vsp_to_point_cloud(self, degen_obj: degen_geom.DegenGeom)->np.ndarray:\n",
        "        npts = degen_obj.surf.num_pnts\n",
        "        n_xsecs = degen_obj.surf.num_secs\n",
        "\n",
        "        points = np.empty((npts * n_xsecs, 3))\n",
        "        points[:, 0] = list(itertools.chain.from_iterable(degen_obj.surf.x))\n",
        "        points[:, 1] = list(itertools.chain.from_iterable(degen_obj.surf.y))\n",
        "        points[:, 2] = list(itertools.chain.from_iterable(degen_obj.surf.z))\n",
        "\n",
        "        return points"
      ],
      "execution_count": null,
      "outputs": []
    },
    {
      "cell_type": "markdown",
      "metadata": {
        "id": "dEfQtQOFeDD9"
      },
      "source": [
        "Set up and run the model.\n"
      ]
    },
    {
      "cell_type": "code",
      "metadata": {
        "id": "Ln8UeuXveFna"
      },
      "source": [
        "if __name__ == \"__main__\":\n",
        "\n",
        "    vsp_comp = VSPeCRM(horiz_tail_name=\"Tail\",\n",
        "                       vert_tail_name=\"VerticalTail\",\n",
        "                       wing_name=\"Wing\",\n",
        "                       reduced=True)\n",
        "\n",
        "    p = om.Problem()\n",
        "\n",
        "    model = p.model\n",
        "\n",
        "    p.model.add_subsystem(\"vsp_comp\", vsp_comp)\n",
        "\n",
        "    p.setup()\n",
        "\n",
        "    p.run_model()"
      ],
      "execution_count": null,
      "outputs": []
    },
    {
      "cell_type": "markdown",
      "metadata": {
        "id": "YAFwqil_ed4p"
      },
      "source": [
        "Serialize and save the data for later use in OpenAeroStruct."
      ]
    },
    {
      "cell_type": "code",
      "metadata": {
        "id": "3G54nCWxefon",
        "outputId": "75958d0a-6ada-4bce-c0d4-88beb43432fe",
        "colab": {
          "base_uri": "https://localhost:8080/"
        }
      },
      "source": [
        "    data = {}\n",
        "    for item in ['wing_mesh', 'vert_tail_mesh', 'horiz_tail_mesh']:\n",
        "        data[item] = p.get_val(f\"vsp_comp.{item}\", units='m')\n",
        "\n",
        "    # Save the meshes in a pickle. These will become the undeformed baseline meshes in\n",
        "    # OpenAeroStruct.\n",
        "    with open('baseline_meshes_reduced.pkl', 'wb') as f:\n",
        "        pickle.dump(data, f)\n",
        "\n",
        "    print('done')"
      ],
      "execution_count": null,
      "outputs": [
        {
          "output_type": "stream",
          "text": [
            "done\n"
          ],
          "name": "stdout"
        }
      ]
    }
  ]
}